{
 "cells": [
  {
   "cell_type": "markdown",
   "metadata": {},
   "source": [
    "## Optimization concepts"
   ]
  },
  {
   "cell_type": "markdown",
   "metadata": {},
   "source": [
    "Company environmental subsidies:\n",
    "\n",
    "$$\n",
    "\\log(ci + xi)\n",
    "$$\n",
    "\n",
    "Function to maximize:\n",
    "\n",
    "$$\n",
    "\\sum_{i=1}^{N} \\log(ci + xi)\n",
    "$$\n",
    "\n",
    "Optimal solution:\n",
    "$$\n",
    "x_i^* = max(0, \\frac{1}{\\lambda} - ci)\n",
    "$$\n"
   ]
  },
  {
   "cell_type": "markdown",
   "metadata": {},
   "source": [
    "1.a) (2 points) Explain (in your own words and max 3 lines) what you understand from the optimal solution x∗i . Hint: Discuss the edge case(s) and compare the budget each department receives."
   ]
  },
  {
   "cell_type": "markdown",
   "metadata": {},
   "source": [
    "We can base our analysis taking the following into account:\n",
    "\n",
    "$$\n",
    "x^*_i =\n",
    "\\begin{cases}\n",
    "\\frac{1}{\\lambda} - c_i & \\text{if } \\frac{1}{\\lambda} - c_i > 0 \\\\\n",
    "0 & \\text{otherwise}\n",
    "\\end{cases}\n",
    "$$\n",
    "\n",
    "From this condition, we can infer that the amount of subsidy a company receives is based on the parameter $\\lambda$. This means that departments with a carbon footprint coefficient $c_i$ less than $\\frac{1}{\\lambda}$ will receive a positive budget allocation and thus maximize the subsidy. On the contrary, departments with $c_i \\geq \\frac{1}{\\lambda}$ will receive no budget and get a total subsidy of 0. With this in mind, the budget is distributed more to departments with lower ci, maximizing the total subsidy return."
   ]
  },
  {
   "cell_type": "markdown",
   "metadata": {},
   "source": [
    "1.b) (3 points) Assuming the total available budget Bt = 10, the total number of departments N = 3, and the carbon footprint coefficient of each department c1 = 4, c2 = 8, c3 = 2, use the binary search method to find the λ that satisfies the budget constraint, i.e., x1 +x2 +x3 = Bt. In addition to providing the Python code, you are required to perform 2 iterations by hand. Note: Use 0.01 and 2 as initial left and right bounds, respectively, in the binary search algorithm."
   ]
  },
  {
   "cell_type": "code",
   "execution_count": null,
   "metadata": {},
   "outputs": [
    {
     "name": "stdout",
     "output_type": "stream",
     "text": [
      "10\n"
     ]
    }
   ],
   "source": [
    "lambda_var = 0.123\n",
    "c1 = 4\n",
    "c2 = 8\n",
    "c3 = 2\n",
    "\n",
    "x1 = ((1/lambda_var) - c1)\n",
    "x2 = ((1/lambda_var) - c2) \n",
    "x3 = ((1/lambda_var) - c3) \n",
    "\n",
    "value = x1 + x2 + x3\n",
    "print(round(value))\n",
    "\n",
    "left = 0.01\n",
    "right = 2"
   ]
  },
  {
   "cell_type": "code",
   "execution_count": 35,
   "metadata": {},
   "outputs": [
    {
     "name": "stdout",
     "output_type": "stream",
     "text": [
      "10\n"
     ]
    }
   ],
   "source": [
    "lambda_var = 0.123\n",
    "c1 = 4\n",
    "c2 = 8\n",
    "c3 = 2\n",
    "\n",
    "x1 = ((1/lambda_var) - c1)\n",
    "x2 = ((1/lambda_var) - c2) \n",
    "x3 = ((1/lambda_var) - c3) \n",
    "\n",
    "value = x1 + x2 + x3\n",
    "print(round(value))"
   ]
  },
  {
   "cell_type": "code",
   "execution_count": 44,
   "metadata": {},
   "outputs": [
    {
     "name": "stdout",
     "output_type": "stream",
     "text": [
      "-12\n"
     ]
    }
   ],
   "source": [
    "lambda_var = 2\n",
    "c1 = 4\n",
    "c2 = 8\n",
    "c3 = 2\n",
    "\n",
    "x1 = ((1/lambda_var) - c1)\n",
    "x2 = ((1/lambda_var) - c2) \n",
    "x3 = ((1/lambda_var) - c3) \n",
    "\n",
    "value = x1 + x2 + x3\n",
    "print(round(value))"
   ]
  },
  {
   "cell_type": "code",
   "execution_count": null,
   "metadata": {},
   "outputs": [
    {
     "name": "stdout",
     "output_type": "stream",
     "text": [
      "lambda left 0.01\n",
      "value left 286.0\n",
      "lambda right 2\n",
      "value right -12.5\n",
      " \n",
      "lambda left 1.005\n",
      "value left -11.014925373134329\n",
      "lambda right 1.5025\n",
      "value right -12.00332778702163\n",
      " \n",
      "lambda left 1.005\n",
      "value left -11.014925373134329\n",
      "lambda right 1.25375\n",
      "value right -11.607178464606182\n",
      " \n",
      "lambda left 1.005\n",
      "value left -11.014925373134329\n",
      "lambda right 1.129375\n",
      "value right -11.343663530713892\n",
      " \n",
      "lambda left 1.005\n",
      "value left -11.014925373134329\n",
      "lambda right 1.0671875\n",
      "value right -11.18887262079063\n",
      " \n",
      "lambda left 1.005\n",
      "value left -11.014925373134329\n",
      "lambda right 1.03609375\n",
      "value right -11.104509123812395\n",
      " \n",
      "lambda left 1.005\n",
      "value left -11.014925373134329\n",
      "lambda right 1.020546875\n",
      "value right -11.060399601929113\n",
      " \n",
      "lambda left 1.005\n",
      "value left -11.014925373134329\n",
      "lambda right 1.0127734375\n",
      "value right -11.037837003895554\n",
      " \n",
      "lambda left 1.005\n",
      "value left -11.014925373134329\n",
      "lambda right 1.00888671875\n",
      "value right -11.026425321846867\n",
      " \n",
      "lambda left 1.005\n",
      "value left -11.014925373134329\n",
      "lambda right 1.006943359375\n",
      "value right -11.02068644470522\n",
      " \n"
     ]
    }
   ],
   "source": [
    "left = 0.01\n",
    "right = 2\n",
    "target = 10\n",
    "\n",
    "def calculate_sum(lambda_var):\n",
    "\n",
    "    c1 = 4\n",
    "    c2 = 8\n",
    "    c3 = 2\n",
    "\n",
    "    x1 = ((1/lambda_var) - c1)\n",
    "    x2 = ((1/lambda_var) - c2) \n",
    "    x3 = ((1/lambda_var) - c3) \n",
    "\n",
    "    value = x1 + x2 + x3\n",
    "    return(value)    \n",
    "\n",
    "for i in range(0,10) :\n",
    "\n",
    "    mid_val = ()\n",
    "    value_left = calculate_sum(leftlambda_var)\n",
    "    value_right = calculate_sum(rightlambda_var)\n",
    "\n",
    "\n",
    "\n",
    "\n",
    "    print(f'lambda left {leftlambda_var}')\n",
    "    print(f'value left {value_left}')\n",
    "    print(f'lambda right {rightlambda_var}')\n",
    "    print(f'value right {value_right}')\n",
    "    print(\" \")\n",
    "\n",
    "    '''\n",
    "    if value_right < target:\n",
    "        rightlambda_var = (leftlambda_var+rightlambda_var)/2\n",
    "\n",
    "    '''\n",
    "    if value_left > target:\n",
    "\n",
    "        leftlambda_var = (leftlambda_var+rightlambda_var)/2\n",
    "\n",
    "    if value_right < target:\n",
    "        rightlambda_var = (leftlambda_var+rightlambda_var)/2\n",
    "\n",
    "\n",
    "    '''\n",
    "    if value_right < 10:\n",
    "        print(f'lambda left {leftlambda_var}')\n",
    "        print(f'value left {value_left}')\n",
    "        print(f'lambda right {rightlambda_var}')\n",
    "        print(f'value right {value_right}')\n",
    "        print(\"\")\n",
    "        rightlambda_var = (leftlambda_var+rightlambda_var)/2\n",
    "    \n",
    "    elif value_left > 10:\n",
    "\n",
    "        print(f'lambda left {leftlambda_var}')\n",
    "        print(f'value left {value_left}')\n",
    "        print(f'lambda right {rightlambda_var}')\n",
    "        print(f'value right {value_right}')\n",
    "        \n",
    "        print(\"\")\n",
    "        leftlambda_var = (leftlambda_var+rightlambda_var)/2\n",
    "\n",
    "    '''\n"
   ]
  },
  {
   "cell_type": "code",
   "execution_count": null,
   "metadata": {},
   "outputs": [],
   "source": [
    "def binary_search(arr, target):\n",
    "    left = 0.01\n",
    "    right = len(arr) - 1\n",
    "\n",
    "    while left <= right:\n",
    "        mid = (left + right) // 2  # Find middle index\n",
    "        mid_val = arr[mid]\n",
    "\n",
    "        if mid_val == target:\n",
    "            return mid  # Target found\n",
    "        elif mid_val < target:\n",
    "            left = mid + 1  # Focus on the right half\n",
    "        else:\n",
    "            right = mid - 1  # Focus on the left half\n",
    "\n",
    "    return -1  # Target not found\n"
   ]
  },
  {
   "cell_type": "code",
   "execution_count": 64,
   "metadata": {},
   "outputs": [
    {
     "data": {
      "text/plain": [
       "1.005"
      ]
     },
     "execution_count": 64,
     "metadata": {},
     "output_type": "execute_result"
    }
   ],
   "source": [
    "(0.01 + 2 )/2"
   ]
  },
  {
   "cell_type": "code",
   "execution_count": null,
   "metadata": {},
   "outputs": [],
   "source": []
  },
  {
   "cell_type": "code",
   "execution_count": 42,
   "metadata": {},
   "outputs": [
    {
     "data": {
      "text/plain": [
       "0.25875"
      ]
     },
     "execution_count": 42,
     "metadata": {},
     "output_type": "execute_result"
    }
   ],
   "source": [
    "(0.01 + 0.5075 )/2\n",
    "\n",
    "\n",
    "\n"
   ]
  },
  {
   "cell_type": "code",
   "execution_count": null,
   "metadata": {},
   "outputs": [],
   "source": []
  },
  {
   "cell_type": "code",
   "execution_count": null,
   "metadata": {},
   "outputs": [],
   "source": []
  },
  {
   "cell_type": "code",
   "execution_count": null,
   "metadata": {},
   "outputs": [],
   "source": []
  }
 ],
 "metadata": {
  "kernelspec": {
   "display_name": "Python 3",
   "language": "python",
   "name": "python3"
  },
  "language_info": {
   "codemirror_mode": {
    "name": "ipython",
    "version": 3
   },
   "file_extension": ".py",
   "mimetype": "text/x-python",
   "name": "python",
   "nbconvert_exporter": "python",
   "pygments_lexer": "ipython3",
   "version": "3.12.2"
  }
 },
 "nbformat": 4,
 "nbformat_minor": 2
}
