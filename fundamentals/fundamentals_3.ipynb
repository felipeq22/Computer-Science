{
 "cells": [
  {
   "cell_type": "code",
   "execution_count": 2,
   "metadata": {},
   "outputs": [],
   "source": [
    "### Optimization concepts"
   ]
  },
  {
   "cell_type": "markdown",
   "metadata": {},
   "source": [
    "Company environmental subsidies:\n",
    "\n",
    "$$\n",
    "\\log(ci + xi)\n",
    "$$\n",
    "\n",
    "Function to maximize:\n",
    "\n",
    "$$\n",
    "\\sum_{i=1}^{N} \\log(ci + xi)\n",
    "$$\n",
    "\n",
    "Optimal solution:\n",
    "$$\n",
    "x_i^* = max(0, \\frac{1}{lambda} - ci)\n",
    "$$\n"
   ]
  }
 ],
 "metadata": {
  "kernelspec": {
   "display_name": "Python 3",
   "language": "python",
   "name": "python3"
  },
  "language_info": {
   "codemirror_mode": {
    "name": "ipython",
    "version": 3
   },
   "file_extension": ".py",
   "mimetype": "text/x-python",
   "name": "python",
   "nbconvert_exporter": "python",
   "pygments_lexer": "ipython3",
   "version": "3.12.2"
  }
 },
 "nbformat": 4,
 "nbformat_minor": 2
}
