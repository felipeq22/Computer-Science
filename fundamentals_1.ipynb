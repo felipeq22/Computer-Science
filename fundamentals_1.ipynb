{
 "cells": [
  {
   "cell_type": "markdown",
   "metadata": {},
   "source": [
    "## Problem Set - Juan Quinones"
   ]
  },
  {
   "cell_type": "code",
   "execution_count": 2,
   "metadata": {},
   "outputs": [],
   "source": [
    "#!pip install -q numpy\n",
    "import pandas as pd "
   ]
  },
  {
   "cell_type": "markdown",
   "metadata": {},
   "source": [
    "1. (2 points) Convert the following decimal integers into 8-bit Two’s Complement signed integers. If that isn’t possible, explain why it isn’t."
   ]
  },
  {
   "cell_type": "markdown",
   "metadata": {},
   "source": [
    "Using 8-bit, we can represent 2^8 = 256 numbers. Thus, our range for 8-bit Two's Complement would be [-128,127]. In this case, we won't be able to represent the number 156 because we don't have enough bits. "
   ]
  },
  {
   "cell_type": "code",
   "execution_count": 3,
   "metadata": {},
   "outputs": [
    {
     "name": "stdout",
     "output_type": "stream",
     "text": [
      "Representation of 24 in 8-bit Two Complement is 00011000\n",
      "Representation of -37 in 8-bit Two Complement is 11011011\n",
      "Representation of 16 in 8-bit Two Complement is 00010000\n"
     ]
    }
   ],
   "source": [
    "list_numbers = [24,156, -37,16]\n",
    "range8 = list(range(-128, 127))\n",
    "\n",
    "for number in list_numbers:\n",
    "\n",
    "    if number in range8:\n",
    "        bit8 = format(number & 0xFF, '08b') #I got this chunk of code using ChatGPT\n",
    "        print(f\"Representation of {number} in 8-bit Two Complement is {bit8}\")\n"
   ]
  },
  {
   "cell_type": "markdown",
   "metadata": {},
   "source": [
    "2. (2 points) Now do the following addition / subtraction problems, highlighting where overflow / underflow errors have occurred. The integers are provided in Two’s Complement notation"
   ]
  },
  {
   "cell_type": "code",
   "execution_count": 29,
   "metadata": {},
   "outputs": [
    {
     "name": "stdout",
     "output_type": "stream",
     "text": [
      "The sum of 00010010 + 10011100 equals: 10101110\n",
      "The sum of 00011000 + 00001000 equals: 00100000\n",
      "The sum of 01100010 + 00101100 gives: Overflow\n",
      "The sum of 11001111 + 10101001 gives: Underflow\n"
     ]
    }
   ],
   "source": [
    "excercises = {1: ['00010010','10011100'], 2: ['00011000', '00001000'], 3: ['01100010', '00101100'], 4:['11001111', '10101001']}\n",
    "range8 = list(range(-128, 127))\n",
    "\n",
    "def convert_binary(number):\n",
    "    n_bits = len(number)\n",
    "\n",
    "    if number[0] == '0':                            #This if condition was done with the help of chatgpt\n",
    "        return (int(number, 2))                     #\n",
    "                                                    #\n",
    "    else:                                           #\n",
    "        return (int(number, 2) - (1 << n_bits))     #\n",
    "\n",
    "\n",
    "for i in excercises.keys():\n",
    "    nums = excercises[i]\n",
    "    num1 = nums[0]\n",
    "    num2 = nums[1]\n",
    "\n",
    "    convert_binary_1 = convert_binary(num1)\n",
    "    convert_binary_2 = convert_binary(num2)\n",
    "\n",
    "    sum = convert_binary_1 + convert_binary_2\n",
    "\n",
    "    if sum in range8:\n",
    "\n",
    "        bit8_number = format(sum & 0xFF, '08b')\n",
    "        print(f\"The sum of {num1} + {num2} equals: {bit8_number}\")\n",
    "\n",
    "    elif sum < range8[0]:\n",
    "\n",
    "        print(f\"The sum of {num1} + {num2} gives: Underflow\")\n",
    "\n",
    "    elif sum > range8[1]:\n",
    "\n",
    "        print(f\"The sum of {num1} + {num2} gives: Overflow\")"
   ]
  },
  {
   "cell_type": "markdown",
   "metadata": {},
   "source": [
    "3. (2 points) Write out exactly what will be done (as I did example solution from the lecture slides) by the computer initialized to have nothing in its registers (including the instruction register), A0 in the program counter, and the following data in its main memory:"
   ]
  },
  {
   "cell_type": "code",
   "execution_count": 71,
   "metadata": {},
   "outputs": [
    {
     "name": "stdout",
     "output_type": "stream",
     "text": [
      "Initialize CPU run:\n",
      "Program Counter 0xA0, Instruction Register 0x\n",
      "Program Counter 0xA2, Instruction Register 0x14AA: LOAD register x4 with bits in AA\n",
      "Program Counter 0xA4, Instruction Register 0x23AA: LOAD register x3 with bits in AA\n",
      "Program Counter 0xA6, Instruction Register 0xA303: ROTATE register x3 with bits in 03\n",
      "Program Counter 0xA8, Instruction Register 0x8234: AND register x2 with bits in 34\n",
      "Program Counter 0xAA, Instruction Register 0xC000: HALT\n",
      "Program Completed\n"
     ]
    }
   ],
   "source": [
    "address = ['A0', 'A1', 'A2' , 'A3', 'A4', 'A5' ,'A6', 'A7' ,'A8' ,'A9' , 'AA']\n",
    "contents = ['14', 'AA', '23', 'AA', 'A3', '03', '82', '34', 'C0', '00', 'B4']\n",
    "vole = {'1': 'LOAD', '2': 'LOAD', '3': 'STORE', '4':'MOVE', '5': 'ADD', '6': 'ADD', '7':'OR', '8': 'AND', '9':'EXCLUSIVE', 'A':'ROTATE', 'B':'JUMP', 'C':'HALT', }\n",
    "\n",
    "print(\"Initialize CPU run:\")\n",
    "program_counter = ''\n",
    "instruction_register = ''\n",
    "\n",
    "for i in range(0, len(address),2):\n",
    "    \n",
    "    program_counter = address[i]\n",
    "    if i - 2 < 0:\n",
    "        instruction_register = ''\n",
    "        print(f'Program Counter 0x{program_counter}, Instruction Register 0x{instruction_register}')\n",
    "    \n",
    "    else:\n",
    "        instruction_register = contents[i-2] + contents[i-1]\n",
    "        action = vole[instruction_register[0]]\n",
    "\n",
    "        if action != 'HALT':\n",
    "            print(f'Program Counter 0x{program_counter}, Instruction Register 0x{instruction_register}: {action} register x{instruction_register[1]} with bits in {instruction_register[2:]}')\n",
    "        else:\n",
    "            print(f'Program Counter 0x{program_counter}, Instruction Register 0x{instruction_register}: {action}')\n",
    "    \n",
    "print('Program Completed')\n",
    "    \n",
    "    \n",
    "    "
   ]
  },
  {
   "cell_type": "markdown",
   "metadata": {},
   "source": [
    "4. (3 points) Write a Python function that checks if an input number is a palindrome number (a number that reads the same forward and reverse, e.g. 151) and returns True or False; this function should raise an error if the input is not an integer."
   ]
  },
  {
   "cell_type": "code",
   "execution_count": null,
   "metadata": {},
   "outputs": [
    {
     "data": {
      "text/plain": [
       "True"
      ]
     },
     "execution_count": 33,
     "metadata": {},
     "output_type": "execute_result"
    }
   ],
   "source": [
    "def is_palindrome(number):\n",
    "\n",
    "    if isinstance(number, int):\n",
    "        \n",
    "        number = str(number)\n",
    "        position_backward, position_upward, counter_loop = half_function(number)\n",
    "\n",
    "        for i in range(0, counter_loop):\n",
    "\n",
    "            if (number[position_backward] == number[position_upward]):\n",
    "                \n",
    "                position_backward = position_backward -1\n",
    "                position_upward = position_upward + 1\n",
    "            \n",
    "            else:\n",
    "\n",
    "                return(False)\n",
    "\n",
    "        return(True)\n",
    "    \n",
    "    else:\n",
    "\n",
    "        raise ValueError(\"Please provide an integer\")\n",
    "\n",
    "\n",
    "def half_function(number):\n",
    "    if len(number) % 2 != 0:\n",
    "\n",
    "        position_backward = ((len(number) - 1)//2) -1\n",
    "        position_upward = (((len(number) + 1)//2) + 1) -1 \n",
    "        counter_loop = (len(number) - 1)//2\n",
    "    \n",
    "    else:\n",
    "\n",
    "        position_backward = ((len(number))//2) - 1\n",
    "        position_upward = (position_backward + 1) \n",
    "        counter_loop = (len(number))//2\n",
    "\n",
    "    return (position_backward, position_upward, counter_loop) \n",
    "\n",
    "\n",
    "number = 151\n",
    "is_palindrome(number)"
   ]
  },
  {
   "cell_type": "markdown",
   "metadata": {},
   "source": [
    "5 (3 points) Consider the circuit below.\n",
    "\n",
    "(a) Create a table showing different values each variable could take and the output corresponding to each combination."
   ]
  },
  {
   "cell_type": "code",
   "execution_count": 25,
   "metadata": {},
   "outputs": [
    {
     "data": {
      "text/html": [
       "<div>\n",
       "<style scoped>\n",
       "    .dataframe tbody tr th:only-of-type {\n",
       "        vertical-align: middle;\n",
       "    }\n",
       "\n",
       "    .dataframe tbody tr th {\n",
       "        vertical-align: top;\n",
       "    }\n",
       "\n",
       "    .dataframe thead th {\n",
       "        text-align: right;\n",
       "    }\n",
       "</style>\n",
       "<table border=\"1\" class=\"dataframe\">\n",
       "  <thead>\n",
       "    <tr style=\"text-align: right;\">\n",
       "      <th></th>\n",
       "      <th>A</th>\n",
       "      <th>B</th>\n",
       "      <th>C</th>\n",
       "      <th>Output Circuit</th>\n",
       "    </tr>\n",
       "  </thead>\n",
       "  <tbody>\n",
       "    <tr>\n",
       "      <th>0</th>\n",
       "      <td>True</td>\n",
       "      <td>True</td>\n",
       "      <td>True</td>\n",
       "      <td>True</td>\n",
       "    </tr>\n",
       "    <tr>\n",
       "      <th>1</th>\n",
       "      <td>True</td>\n",
       "      <td>True</td>\n",
       "      <td>False</td>\n",
       "      <td>True</td>\n",
       "    </tr>\n",
       "    <tr>\n",
       "      <th>2</th>\n",
       "      <td>True</td>\n",
       "      <td>False</td>\n",
       "      <td>True</td>\n",
       "      <td>True</td>\n",
       "    </tr>\n",
       "    <tr>\n",
       "      <th>3</th>\n",
       "      <td>True</td>\n",
       "      <td>False</td>\n",
       "      <td>False</td>\n",
       "      <td>False</td>\n",
       "    </tr>\n",
       "    <tr>\n",
       "      <th>4</th>\n",
       "      <td>False</td>\n",
       "      <td>True</td>\n",
       "      <td>True</td>\n",
       "      <td>False</td>\n",
       "    </tr>\n",
       "    <tr>\n",
       "      <th>5</th>\n",
       "      <td>False</td>\n",
       "      <td>True</td>\n",
       "      <td>False</td>\n",
       "      <td>True</td>\n",
       "    </tr>\n",
       "    <tr>\n",
       "      <th>6</th>\n",
       "      <td>False</td>\n",
       "      <td>False</td>\n",
       "      <td>True</td>\n",
       "      <td>False</td>\n",
       "    </tr>\n",
       "    <tr>\n",
       "      <th>7</th>\n",
       "      <td>False</td>\n",
       "      <td>False</td>\n",
       "      <td>False</td>\n",
       "      <td>False</td>\n",
       "    </tr>\n",
       "  </tbody>\n",
       "</table>\n",
       "</div>"
      ],
      "text/plain": [
       "       A      B      C  Output Circuit\n",
       "0   True   True   True            True\n",
       "1   True   True  False            True\n",
       "2   True  False   True            True\n",
       "3   True  False  False           False\n",
       "4  False   True   True           False\n",
       "5  False   True  False            True\n",
       "6  False  False   True           False\n",
       "7  False  False  False           False"
      ]
     },
     "execution_count": 25,
     "metadata": {},
     "output_type": "execute_result"
    }
   ],
   "source": [
    "operand = [True, False]\n",
    "\n",
    "A = []\n",
    "B = []\n",
    "C = []\n",
    "results = []\n",
    "\n",
    "for a in operand:\n",
    "    for b in operand:\n",
    "        for c in operand:\n",
    "            A.append(a)\n",
    "            B.append(b)\n",
    "            C.append(c)\n",
    "            # LOGIC OF CIRCUIT\n",
    "            path_1 = (a and c)\n",
    "            path_2 = (b and(not(c)))\n",
    "            output = path_1 or path_2\n",
    "            results.append(output)\n",
    "\n",
    "results_1 = pd.DataFrame({'A': A, 'B': B, 'C': C, 'Output Circuit': results})\n",
    "results_1"
   ]
  },
  {
   "cell_type": "markdown",
   "metadata": {},
   "source": [
    "(b) Assume that A could take two values, “Action A” corresponding 1/True, or “!” corresponding to 0/False. Similarly, B could take two values, “Action B” corresponding to 1/True or “!” corresponding to 0/False. Finally, C could take 1/True or 0/False. What are the possible outputs if we set A and B to 1. Hint: Note that when we set A and B to one, A will be equal to “Action A” and B will be equal to “Action B”"
   ]
  },
  {
   "cell_type": "code",
   "execution_count": 29,
   "metadata": {},
   "outputs": [
    {
     "data": {
      "text/html": [
       "<div>\n",
       "<style scoped>\n",
       "    .dataframe tbody tr th:only-of-type {\n",
       "        vertical-align: middle;\n",
       "    }\n",
       "\n",
       "    .dataframe tbody tr th {\n",
       "        vertical-align: top;\n",
       "    }\n",
       "\n",
       "    .dataframe thead th {\n",
       "        text-align: right;\n",
       "    }\n",
       "</style>\n",
       "<table border=\"1\" class=\"dataframe\">\n",
       "  <thead>\n",
       "    <tr style=\"text-align: right;\">\n",
       "      <th></th>\n",
       "      <th>A</th>\n",
       "      <th>B</th>\n",
       "      <th>C</th>\n",
       "      <th>Output Circuit</th>\n",
       "    </tr>\n",
       "  </thead>\n",
       "  <tbody>\n",
       "    <tr>\n",
       "      <th>0</th>\n",
       "      <td>Action A</td>\n",
       "      <td>Action B</td>\n",
       "      <td>1</td>\n",
       "      <td>Action A</td>\n",
       "    </tr>\n",
       "    <tr>\n",
       "      <th>1</th>\n",
       "      <td>Action A</td>\n",
       "      <td>Action B</td>\n",
       "      <td>0</td>\n",
       "      <td>Action B</td>\n",
       "    </tr>\n",
       "  </tbody>\n",
       "</table>\n",
       "</div>"
      ],
      "text/plain": [
       "          A         B  C Output Circuit\n",
       "0  Action A  Action B  1       Action A\n",
       "1  Action A  Action B  0       Action B"
      ]
     },
     "execution_count": 29,
     "metadata": {},
     "output_type": "execute_result"
    }
   ],
   "source": [
    "A = ['Action A', 'Action A']\n",
    "B = ['Action B', 'Action B']\n",
    "C = [1,0]\n",
    "output = ['Action A', 'Action B']\n",
    "\n",
    "#Option1; Path1: 1; Path2: 0, Output: 'ACTION A'\n",
    "#Option2; Path1: 0; Path2: 1, Output: 'ACTION B'\n",
    "\n",
    "results_2 = pd.DataFrame({'A': A, 'B': B, 'C': C, 'Output Circuit': output })\n",
    "results_2"
   ]
  },
  {
   "cell_type": "markdown",
   "metadata": {},
   "source": [
    "(c) How would you implement the logic of question (b) in Python? Provide the code."
   ]
  },
  {
   "cell_type": "code",
   "execution_count": 72,
   "metadata": {},
   "outputs": [
    {
     "name": "stdout",
     "output_type": "stream",
     "text": [
      "With A equal to \"Action A\", B equal to \"Action B\" and C equal to 1 the output of the circuit is: True\n",
      "With A equal to \"Action A\", B equal to \"Action B\" and C equal to 0 the output of the circuit is: True\n"
     ]
    }
   ],
   "source": [
    "A = {'Action A': True, '!': False}\n",
    "B = {'Action B': True, '!': False}\n",
    "C = {'1': True, '0': False}\n",
    "\n",
    "for key in C.keys():\n",
    "\n",
    "    path_1 = (A['Action A'] and C[key])\n",
    "    path_2 = (B['Action B'] and(not(C[key])))\n",
    "    output = path_1 or path_2\n",
    "    print(f'With A equal to \"Action A\", B equal to \"Action B\" and C equal to {key} the output of the circuit is: {output}')\n"
   ]
  }
 ],
 "metadata": {
  "kernelspec": {
   "display_name": "dsavenv",
   "language": "python",
   "name": "python3"
  },
  "language_info": {
   "codemirror_mode": {
    "name": "ipython",
    "version": 3
   },
   "file_extension": ".py",
   "mimetype": "text/x-python",
   "name": "python",
   "nbconvert_exporter": "python",
   "pygments_lexer": "ipython3",
   "version": "3.12.2"
  }
 },
 "nbformat": 4,
 "nbformat_minor": 2
}
