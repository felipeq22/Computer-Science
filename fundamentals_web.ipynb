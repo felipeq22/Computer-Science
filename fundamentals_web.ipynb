{
 "cells": [
  {
   "cell_type": "markdown",
   "metadata": {},
   "source": [
    "## Problem Set - Juan Quinones"
   ]
  },
  {
   "cell_type": "code",
   "execution_count": 41,
   "metadata": {},
   "outputs": [],
   "source": [
    "#!pip install -q numpy\n",
    "#!pip install flask"
   ]
  },
  {
   "cell_type": "markdown",
   "metadata": {},
   "source": [
    "1. (2 points) Convert the following decimal integers into 8-bit Two’s Complement signed integers. If that isn’t possible, explain why it isn’t."
   ]
  },
  {
   "cell_type": "markdown",
   "metadata": {},
   "source": [
    "Using 8-bit, we can represent 2^8 = 256 numbers. Thus, our range for 8-bit Two's Complement would be [-128,127]. In this case, we won't be able to represent the number 156 because we don't have enough bits. "
   ]
  },
  {
   "cell_type": "code",
   "execution_count": 3,
   "metadata": {},
   "outputs": [
    {
     "name": "stdout",
     "output_type": "stream",
     "text": [
      "Representation of 24 in 8-bit Two Complement is 00011000\n",
      "Representation of -37 in 8-bit Two Complement is 11011011\n",
      "Representation of 16 in 8-bit Two Complement is 00010000\n"
     ]
    }
   ],
   "source": [
    "list_numbers = [24,156, -37,16]\n",
    "range8 = list(range(-128, 127))\n",
    "\n",
    "for number in list_numbers:\n",
    "\n",
    "    if number in range8:\n",
    "        bit8 = format(number & 0xFF, '08b') #I got this chunk of code using ChatGPT\n",
    "        print(f\"Representation of {number} in 8-bit Two Complement is {bit8}\")\n"
   ]
  },
  {
   "cell_type": "markdown",
   "metadata": {},
   "source": [
    "2. (2 points) Now do the following addition / subtraction problems, highlighting where overflow / underflow errors have occurred. The integers are provided in Two’s Complement notation"
   ]
  },
  {
   "cell_type": "code",
   "execution_count": 29,
   "metadata": {},
   "outputs": [
    {
     "name": "stdout",
     "output_type": "stream",
     "text": [
      "The sum of 00010010 + 10011100 equals: 10101110\n",
      "The sum of 00011000 + 00001000 equals: 00100000\n",
      "The sum of 01100010 + 00101100 gives: Overflow\n",
      "The sum of 11001111 + 10101001 gives: Underflow\n"
     ]
    }
   ],
   "source": [
    "excercises = {1: ['00010010','10011100'], 2: ['00011000', '00001000'], 3: ['01100010', '00101100'], 4:['11001111', '10101001']}\n",
    "range8 = list(range(-128, 127))\n",
    "\n",
    "def convert_binary(number):\n",
    "    n_bits = len(number)\n",
    "\n",
    "    if number[0] == '0':                            #This if condition was done with the help of chatgpt\n",
    "        return (int(number, 2))                     #\n",
    "                                                    #\n",
    "    else:                                           #\n",
    "        return (int(number, 2) - (1 << n_bits))     #\n",
    "\n",
    "\n",
    "for i in excercises.keys():\n",
    "    nums = excercises[i]\n",
    "    num1 = nums[0]\n",
    "    num2 = nums[1]\n",
    "\n",
    "    convert_binary_1 = convert_binary(num1)\n",
    "    convert_binary_2 = convert_binary(num2)\n",
    "\n",
    "    sum = convert_binary_1 + convert_binary_2\n",
    "\n",
    "    if sum in range8:\n",
    "\n",
    "        bit8_number = format(sum & 0xFF, '08b')\n",
    "        print(f\"The sum of {num1} + {num2} equals: {bit8_number}\")\n",
    "\n",
    "    elif sum < range8[0]:\n",
    "\n",
    "        print(f\"The sum of {num1} + {num2} gives: Underflow\")\n",
    "\n",
    "    elif sum > range8[1]:\n",
    "\n",
    "        print(f\"The sum of {num1} + {num2} gives: Overflow\")"
   ]
  },
  {
   "cell_type": "markdown",
   "metadata": {},
   "source": [
    "3. (2 points) Write out exactly what will be done (as I did example solution from the lecture slides) by the computer initialized to have nothing in its registers (including the instruction register), A0 in the program counter, and the following data in its main memory:"
   ]
  },
  {
   "cell_type": "code",
   "execution_count": 36,
   "metadata": {},
   "outputs": [
    {
     "name": "stdout",
     "output_type": "stream",
     "text": [
      "In memory location A0: LOAD MOVE\n",
      "In memory location A1: ROTATE ROTATE\n",
      "In memory location A2: LOAD STORE\n",
      "In memory location A3: ROTATE ROTATE\n",
      "In memory location A4: ROTATE STORE\n",
      "In memory location A5:  STORE\n",
      "In memory location A6: REGISTER LOAD\n",
      "In memory location A7: STORE MOVE\n",
      "In memory location A8: HALT \n",
      "In memory location A9:  \n",
      "In memory location AA: JUMP MOVE\n"
     ]
    }
   ],
   "source": [
    "address = ['A0', 'A1', 'A2' , 'A3', 'A4', 'A5' ,'A6', 'A7' ,'A8' ,'A9' , 'AA']\n",
    "contents = ['14', 'AA', '23', 'AA', 'A3', '03', '82', '34', 'C0', '00', 'B4']\n",
    "vole = {'1': 'LOAD', '2': 'LOAD', '3': 'STORE', '4':'MOVE', '5': 'REGISTER', '6': 'REGISTER', '7':'OR', '8': 'REGISTER', '9':'EXCLUSIVE', 'A':'ROTATE', 'B':'JUMP', 'C':'HALT', '0':''}\n",
    "\n",
    "for i in range(0, len(address)):\n",
    "    \n",
    "    address_1 = address[i]\n",
    "    instruction = contents[i]\n",
    "    instr_1 = instruction[0]\n",
    "    instr_2 = instruction[1]\n",
    "    \n",
    "    instr_1str = vole[instr_1]\n",
    "    instr_2str = vole[instr_2]\n",
    "\n",
    "    print(f\"In memory location {address_1}: {instr_1str} {instr_2str}\")\n"
   ]
  },
  {
   "cell_type": "markdown",
   "metadata": {},
   "source": [
    "4. (3 points) Write a Python function that checks if an input number is a palindrome number (a number that reads the same forward and reverse, e.g. 151) and returns True or False; this function should raise an error if the input is not an integer."
   ]
  },
  {
   "cell_type": "code",
   "execution_count": null,
   "metadata": {},
   "outputs": [
    {
     "data": {
      "text/plain": [
       "True"
      ]
     },
     "execution_count": 33,
     "metadata": {},
     "output_type": "execute_result"
    }
   ],
   "source": [
    "def is_palindrome(number):\n",
    "\n",
    "    if isinstance(number, int):\n",
    "        \n",
    "        number = str(number)\n",
    "        position_backward, position_upward, counter_loop = half_function(number)\n",
    "\n",
    "        for i in range(0, counter_loop):\n",
    "\n",
    "            if (number[position_backward] == number[position_upward]):\n",
    "                \n",
    "                position_backward = position_backward -1\n",
    "                position_upward = position_upward + 1\n",
    "            \n",
    "            else:\n",
    "\n",
    "                return(False)\n",
    "\n",
    "        return(True)\n",
    "    \n",
    "    else:\n",
    "\n",
    "        raise ValueError(\"Please provide an integer\")\n",
    "\n",
    "\n",
    "def half_function(number):\n",
    "    if len(number) % 2 != 0:\n",
    "\n",
    "        position_backward = ((len(number) - 1)//2) -1\n",
    "        position_upward = (((len(number) + 1)//2) + 1) -1 \n",
    "        counter_loop = (len(number) - 1)//2\n",
    "    \n",
    "    else:\n",
    "\n",
    "        position_backward = ((len(number))//2) - 1\n",
    "        position_upward = (position_backward + 1) \n",
    "        counter_loop = (len(number))//2\n",
    "\n",
    "    return (position_backward, position_upward, counter_loop) \n",
    "\n",
    "\n",
    "number = 151\n",
    "is_palindrome(number)"
   ]
  },
  {
   "cell_type": "markdown",
   "metadata": {},
   "source": [
    "5 (3 points) Consider the circuit below.\n",
    "\n",
    "(a) Create a table showing different values each variable could take and the output corre- sponding to each combination."
   ]
  },
  {
   "cell_type": "code",
   "execution_count": 39,
   "metadata": {},
   "outputs": [
    {
     "data": {
      "text/html": [
       "<div>\n",
       "<style scoped>\n",
       "    .dataframe tbody tr th:only-of-type {\n",
       "        vertical-align: middle;\n",
       "    }\n",
       "\n",
       "    .dataframe tbody tr th {\n",
       "        vertical-align: top;\n",
       "    }\n",
       "\n",
       "    .dataframe thead th {\n",
       "        text-align: right;\n",
       "    }\n",
       "</style>\n",
       "<table border=\"1\" class=\"dataframe\">\n",
       "  <thead>\n",
       "    <tr style=\"text-align: right;\">\n",
       "      <th></th>\n",
       "      <th>A</th>\n",
       "      <th>B</th>\n",
       "      <th>C</th>\n",
       "    </tr>\n",
       "  </thead>\n",
       "  <tbody>\n",
       "    <tr>\n",
       "      <th>0</th>\n",
       "      <td>True</td>\n",
       "      <td>True</td>\n",
       "      <td>True</td>\n",
       "    </tr>\n",
       "    <tr>\n",
       "      <th>1</th>\n",
       "      <td>False</td>\n",
       "      <td>False</td>\n",
       "      <td>False</td>\n",
       "    </tr>\n",
       "  </tbody>\n",
       "</table>\n",
       "</div>"
      ],
      "text/plain": [
       "       A      B      C\n",
       "0   True   True   True\n",
       "1  False  False  False"
      ]
     },
     "execution_count": 39,
     "metadata": {},
     "output_type": "execute_result"
    }
   ],
   "source": [
    "import pandas as pd\n",
    "\n",
    "operands = {'A': [True, False], 'B': [True, False], 'C': [True, False]}\n",
    "\n",
    "df_operands = pd.DataFrame(operands)\n",
    "df_operands"
   ]
  },
  {
   "cell_type": "code",
   "execution_count": null,
   "metadata": {},
   "outputs": [],
   "source": []
  },
  {
   "cell_type": "markdown",
   "metadata": {},
   "source": [
    "6. (3 points) Using the flask project that you created in the lab, create an About page with the content listed below. You should show in your code that you know how to pass a variable to\n",
    "the render template function. You need to submit the code of your about.html template and the code of your flaskapp.py file, plus a screenshot of the about page in your running app. Include the relevant code in a script listing in a markdown cell of the Jupyter notebook by creating a markdown cell and surrounding it with three backticks (```: on a US keyboard, this is above the Tab key, on a German keyboard, this is next to the Backspace key). The screenshot can be inserted using the notebook’s UI (in my Jupyter, an image can be embedded using Edit - Insert Image in a Markdown cell).\n"
   ]
  },
  {
   "cell_type": "code",
   "execution_count": null,
   "metadata": {},
   "outputs": [],
   "source": []
  }
 ],
 "metadata": {
  "kernelspec": {
   "display_name": "dsavenv",
   "language": "python",
   "name": "python3"
  },
  "language_info": {
   "codemirror_mode": {
    "name": "ipython",
    "version": 3
   },
   "file_extension": ".py",
   "mimetype": "text/x-python",
   "name": "python",
   "nbconvert_exporter": "python",
   "pygments_lexer": "ipython3",
   "version": "3.12.2"
  }
 },
 "nbformat": 4,
 "nbformat_minor": 2
}
